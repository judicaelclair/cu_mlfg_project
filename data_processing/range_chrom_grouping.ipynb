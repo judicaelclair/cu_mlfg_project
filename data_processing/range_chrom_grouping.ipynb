{
 "cells": [
  {
   "cell_type": "markdown",
   "metadata": {},
   "source": [
    "# Range and Chromosome grouping"
   ]
  },
  {
   "cell_type": "code",
   "execution_count": 12,
   "metadata": {},
   "outputs": [],
   "source": [
    "import pandas as pd\n",
    "import numpy\n",
    "import json\n",
    "DATADIR = '../data/'\n",
    "dname = pd.read_csv(DATADIR+'methylation_processed.csv')\n",
    "atac = pd.read_csv(DATADIR+'atacseq_processed.csv')"
   ]
  },
  {
   "cell_type": "code",
   "execution_count": 13,
   "metadata": {},
   "outputs": [],
   "source": [
    "dname = dname.drop(['Unnamed: 0','Unnamed: 0.1'],axis = 1)\n",
    "atac = atac.drop(['Unnamed: 0','Unnamed: 0.1'],axis = 1)"
   ]
  },
  {
   "cell_type": "code",
   "execution_count": 14,
   "metadata": {},
   "outputs": [],
   "source": [
    "def return_columns(df):\n",
    "    df = df.drop(['chrom','chromRange','chromEnd','chromStart','gene','strand'],axis = 1)\n",
    "    return df.columns"
   ]
  },
  {
   "cell_type": "code",
   "execution_count": 15,
   "metadata": {},
   "outputs": [],
   "source": [
    "data_columns = list(return_columns(dname))\n",
    "dname['methylation values'] = list(dname[data_columns].values)\n",
    "atac['atac values'] = list(atac[data_columns].values)"
   ]
  },
  {
   "cell_type": "code",
   "execution_count": 16,
   "metadata": {},
   "outputs": [],
   "source": [
    "dname_proc = dname.drop(data_columns+['strand','gene'],axis=1)\n",
    "atac_proc = atac.drop(data_columns+['strand','gene'],axis=1)"
   ]
  },
  {
   "cell_type": "code",
   "execution_count": 17,
   "metadata": {},
   "outputs": [],
   "source": [
    "atac_proc  =atac_proc.sort_values(by='chromStart')\n",
    "dname_proc  = dname_proc.sort_values(by='chromStart')"
   ]
  },
  {
   "cell_type": "code",
   "execution_count": 18,
   "metadata": {},
   "outputs": [],
   "source": [
    "dnamechunks = [x for _, x in dname_proc.groupby(dname_proc['chromRange'])]\n",
    "atacseqchunks = [x for _, x in atac_proc.groupby(atac_proc['chromRange'])]\n"
   ]
  },
  {
   "cell_type": "markdown",
   "metadata": {},
   "source": [
    "## Range grouped processing"
   ]
  },
  {
   "cell_type": "code",
   "execution_count": 23,
   "metadata": {},
   "outputs": [],
   "source": [
    "def group_by_range(chunks,data_name):\n",
    "    agg = {}\n",
    "    agg_index = 0\n",
    "    for chunk in chunks:\n",
    "        range = chunk.iloc[0]['chromRange']\n",
    "        start  = int(float(range.split(',')[0][3:]))\n",
    "        end =  int(float(range.split(',')[1][1:-3]))\n",
    "        new_row = {'chromStart':start,'chromEnd':end}\n",
    "        i = 0\n",
    "        chunk = chunk.reset_index(drop = True)\n",
    "        for index,row in chunk.iterrows():\n",
    "            if index == len(chunk) -1:\n",
    "                new_row['point'+str(i)] = list(row[data_name+' values'])\n",
    "                break\n",
    "            nextrow = chunk.iloc[index+1]\n",
    "            diff = nextrow['chromStart'] - row['chromEnd']\n",
    "\n",
    "            if nextrow['chromStart'] == row['chromStart']:\n",
    "                i+=1\n",
    "                continue\n",
    "\n",
    "            new_row['point'+str(i)] = list(row[data_name+' values'])\n",
    "            new_row['dist'+str(i)+'_'+str(i+1)] = diff\n",
    "            i+=1\n",
    "\n",
    "        agg[agg_index] = new_row\n",
    "        agg_index+=1\n",
    "    return agg\n",
    "        \n",
    "agg_dname = group_by_range(dnamechunks,'methylation')\n",
    "agg_atac = group_by_range(atacseqchunks,'atac')"
   ]
  },
  {
   "cell_type": "code",
   "execution_count": 27,
   "metadata": {},
   "outputs": [],
   "source": [
    "dname_chroms = [x for _, x in dname_proc.groupby(dname_proc['chrom'])]\n",
    "atacseq_chroms = [x for _, x in atac_proc.groupby(atac_proc['chrom'])]"
   ]
  },
  {
   "cell_type": "markdown",
   "metadata": {},
   "source": [
    "## Chromosome grouped processing"
   ]
  },
  {
   "cell_type": "code",
   "execution_count": 28,
   "metadata": {},
   "outputs": [],
   "source": [
    "def group_by_chromosome(chunks,data_name):\n",
    "    agg = {}\n",
    "    for chunk in chunks:\n",
    "        chrom = chunk.iloc[0]['chrom']\n",
    "        if chrom not in agg:\n",
    "            agg[chrom] = {}\n",
    "        new_row = {'chrom':chunk.iloc[0]['chrom']}\n",
    "        i = 0\n",
    "        chunk = chunk.reset_index(drop = True)\n",
    "        for index,row in chunk.iterrows():\n",
    "            if index == len(chunk) -1:\n",
    "                range = row['chromRange']\n",
    "                start  = int(float(range.split(',')[0][3:]))\n",
    "                end =  int(float(range.split(',')[1][1:-3]))\n",
    "                agg[chrom][rangeKey]['data']['point'+str(i)] = list(row[data_name+' values'])\n",
    "                break\n",
    "            \n",
    "            nextrow = chunk.iloc[index+1]\n",
    "            diff = nextrow['chromStart'] - row['chromEnd']\n",
    "\n",
    "            if nextrow['chromStart'] == row['chromStart']:\n",
    "                continue\n",
    "\n",
    "            range = row['chromRange']\n",
    "            start  = int(float(range.split(',')[0][3:]))\n",
    "            end =  int(float(range.split(',')[1][1:-3]))\n",
    "            rangeKey = str(start) + '_' + str(end)\n",
    "\n",
    "            if rangeKey in agg[chrom]:\n",
    "                agg[chrom][rangeKey]['data']['point'+str(i)] = list(row[data_name+' values'])\n",
    "                agg[chrom][rangeKey]['data']['dist'+str(i)+'_'+str(i+1)] = diff\n",
    "                i+=1\n",
    "            else:\n",
    "                i=0\n",
    "                agg[chrom][rangeKey] = {'chromStart':start,'chromEnd':end,'data':{'point' + str(i) : list(row[data_name+' values']), 'dist'+str(i)+'_'+str(i+1):diff}}\n",
    "                i+=1\n",
    "    return agg\n",
    "\n",
    "chrom_agg_dname = group_by_chromosome(dname_chroms,'methylation')\n",
    "chrom_agg_atac = group_by_chromosome(atacseq_chroms,'atac')"
   ]
  },
  {
   "cell_type": "code",
   "execution_count": 30,
   "metadata": {},
   "outputs": [],
   "source": [
    "import json\n",
    "with open(DATADIR+'dname_range_grouped.json', 'w') as fout:\n",
    "    json.dump(agg_dname, fout)\n",
    "\n",
    "with open(DATADIR+'atac_range_grouped.json', 'w') as fout:\n",
    "    json.dump(agg_atac, fout)\n",
    "\n",
    "with open(DATADIR+'dname_chrom_grouped.json', 'w') as fout:\n",
    "    json.dump(chrom_agg_dname, fout)\n",
    "\n",
    "with open(DATADIR+'atac_chrom_grouped.json', 'w') as fout:\n",
    "    json.dump(chrom_agg_atac, fout)\n"
   ]
  },
  {
   "cell_type": "code",
   "execution_count": null,
   "metadata": {},
   "outputs": [],
   "source": []
  }
 ],
 "metadata": {
  "interpreter": {
   "hash": "bc1eb4633d57d8d56419bde4ff9144dd4de38a1957a022add7d795b4f7efc8bf"
  },
  "kernelspec": {
   "display_name": "Python 3.8.8 ('base')",
   "language": "python",
   "name": "python3"
  },
  "language_info": {
   "codemirror_mode": {
    "name": "ipython",
    "version": 3
   },
   "file_extension": ".py",
   "mimetype": "text/x-python",
   "name": "python",
   "nbconvert_exporter": "python",
   "pygments_lexer": "ipython3",
   "version": "3.8.8"
  },
  "orig_nbformat": 4
 },
 "nbformat": 4,
 "nbformat_minor": 2
}
